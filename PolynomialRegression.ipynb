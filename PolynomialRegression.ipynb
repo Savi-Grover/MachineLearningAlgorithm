{
 "cells": [
  {
   "cell_type": "code",
   "execution_count": 33,
   "id": "2f23bb38",
   "metadata": {},
   "outputs": [],
   "source": [
    "# import libraries\n",
    "import pandas as pd\n",
    "import matplotlib.pyplot as plt\n",
    "import numpy as np\n",
    "%matplotlib inline"
   ]
  },
  {
   "cell_type": "code",
   "execution_count": 34,
   "id": "271db460",
   "metadata": {},
   "outputs": [],
   "source": [
    "## considered 2 inputs = x ; y is a quadratic equation\n",
    "\n",
    "X= 6 * np.random.rand(100,1)-3\n",
    "y= 0.5 * X**2 + 1.5*X +2 + np.random.rand(100,1)"
   ]
  },
  {
   "cell_type": "code",
   "execution_count": 35,
   "id": "46a7ce79",
   "metadata": {},
   "outputs": [
    {
     "data": {
      "text/plain": [
       "Text(0, 0.5, 'y dataset')"
      ]
     },
     "execution_count": 35,
     "metadata": {},
     "output_type": "execute_result"
    },
    {
     "data": {
      "image/png": "[encoded data removed]",
      "text/plain": [
       "<Figure size 640x480 with 1 Axes>"
      ]
     },
     "metadata": {},
     "output_type": "display_data"
    }
   ],
   "source": [
    "## plot X and y\n",
    "plt.scatter(X,y,color='green')\n",
    "plt.xlabel('X dataset')\n",
    "plt.ylabel('y dataset')"
   ]
  },
  {
   "cell_type": "markdown",
   "id": "98b54174",
   "metadata": {},
   "source": [
    "## lets implement from Simple Linear regression and then by PLR and compare both\n"
   ]
  },
  {
   "cell_type": "code",
   "execution_count": 36,
   "id": "2e467529",
   "metadata": {},
   "outputs": [],
   "source": [
    "## Train Test Split\n",
    "from sklearn.model_selection import train_test_split\n",
    "X_train,X_test,y_train,y_test=train_test_split(X,y,test_size=0.2,random_state=42)"
   ]
  },
  {
   "cell_type": "code",
   "execution_count": 37,
   "id": "641974d1",
   "metadata": {},
   "outputs": [],
   "source": [
    "## implement SLR\n",
    "from sklearn.linear_model import LinearRegression\n",
    "regression1=LinearRegression()"
   ]
  },
  {
   "cell_type": "code",
   "execution_count": 38,
   "id": "0023c7e7",
   "metadata": {},
   "outputs": [
    {
     "data": {
      "text/html": [
       "<style>#sk-container-id-3 {color: black;}#sk-container-id-3 pre{padding: 0;}#sk-container-id-3 div.sk-toggleable {background-color: white;}#sk-container-id-3 label.sk-toggleable__label {cursor: pointer;display: block;width: 100%;margin-bottom: 0;padding: 0.3em;box-sizing: border-box;text-align: center;}#sk-container-id-3 label.sk-toggleable__label-arrow:before {content: \"▸\";float: left;margin-right: 0.25em;color: #696969;}#sk-container-id-3 label.sk-toggleable__label-arrow:hover:before {color: black;}#sk-container-id-3 div.sk-estimator:hover label.sk-toggleable__label-arrow:before {color: black;}#sk-container-id-3 div.sk-toggleable__content {max-height: 0;max-width: 0;overflow: hidden;text-align: left;background-color: #f0f8ff;}#sk-container-id-3 div.sk-toggleable__content pre {margin: 0.2em;color: black;border-radius: 0.25em;background-color: #f0f8ff;}#sk-container-id-3 input.sk-toggleable__control:checked~div.sk-toggleable__content {max-height: 200px;max-width: 100%;overflow: auto;}#sk-container-id-3 input.sk-toggleable__control:checked~label.sk-toggleable__label-arrow:before {content: \"▾\";}#sk-container-id-3 div.sk-estimator input.sk-toggleable__control:checked~label.sk-toggleable__label {background-color: #d4ebff;}#sk-container-id-3 div.sk-label input.sk-toggleable__control:checked~label.sk-toggleable__label {background-color: #d4ebff;}#sk-container-id-3 input.sk-hidden--visually {border: 0;clip: rect(1px 1px 1px 1px);clip: rect(1px, 1px, 1px, 1px);height: 1px;margin: -1px;overflow: hidden;padding: 0;position: absolute;width: 1px;}#sk-container-id-3 div.sk-estimator {font-family: monospace;background-color: #f0f8ff;border: 1px dotted black;border-radius: 0.25em;box-sizing: border-box;margin-bottom: 0.5em;}#sk-container-id-3 div.sk-estimator:hover {background-color: #d4ebff;}#sk-container-id-3 div.sk-parallel-item::after {content: \"\";width: 100%;border-bottom: 1px solid gray;flex-grow: 1;}#sk-container-id-3 div.sk-label:hover label.sk-toggleable__label {background-color: #d4ebff;}#sk-container-id-3 div.sk-serial::before {content: \"\";position: absolute;border-left: 1px solid gray;box-sizing: border-box;top: 0;bottom: 0;left: 50%;z-index: 0;}#sk-container-id-3 div.sk-serial {display: flex;flex-direction: column;align-items: center;background-color: white;padding-right: 0.2em;padding-left: 0.2em;position: relative;}#sk-container-id-3 div.sk-item {position: relative;z-index: 1;}#sk-container-id-3 div.sk-parallel {display: flex;align-items: stretch;justify-content: center;background-color: white;position: relative;}#sk-container-id-3 div.sk-item::before, #sk-container-id-3 div.sk-parallel-item::before {content: \"\";position: absolute;border-left: 1px solid gray;box-sizing: border-box;top: 0;bottom: 0;left: 50%;z-index: -1;}#sk-container-id-3 div.sk-parallel-item {display: flex;flex-direction: column;z-index: 1;position: relative;background-color: white;}#sk-container-id-3 div.sk-parallel-item:first-child::after {align-self: flex-end;width: 50%;}#sk-container-id-3 div.sk-parallel-item:last-child::after {align-self: flex-start;width: 50%;}#sk-container-id-3 div.sk-parallel-item:only-child::after {width: 0;}#sk-container-id-3 div.sk-dashed-wrapped {border: 1px dashed gray;margin: 0 0.4em 0.5em 0.4em;box-sizing: border-box;padding-bottom: 0.4em;background-color: white;}#sk-container-id-3 div.sk-label label {font-family: monospace;font-weight: bold;display: inline-block;line-height: 1.2em;}#sk-container-id-3 div.sk-label-container {text-align: center;}#sk-container-id-3 div.sk-container {/* jupyter's `normalize.less` sets `[hidden] { display: none; }` but bootstrap.min.css set `[hidden] { display: none !important; }` so we also need the `!important` here to be able to override the default hidden behavior on the sphinx rendered scikit-learn.org. See: https://github.com/scikit-learn/scikit-learn/issues/21755 */display: inline-block !important;position: relative;}#sk-container-id-3 div.sk-text-repr-fallback {display: none;}</style><div id=\"sk-container-id-3\" class=\"sk-top-container\"><div class=\"sk-text-repr-fallback\"><pre>LinearRegression()</pre><b>In a Jupyter environment, please rerun this cell to show the HTML representation or trust the notebook. <br />On GitHub, the HTML representation is unable to render, please try loading this page with nbviewer.org.</b></div><div class=\"sk-container\" hidden><div class=\"sk-item\"><div class=\"sk-estimator sk-toggleable\"><input class=\"sk-toggleable__control sk-hidden--visually\" id=\"sk-estimator-id-3\" type=\"checkbox\" checked><label for=\"sk-estimator-id-3\" class=\"sk-toggleable__label sk-toggleable__label-arrow\">LinearRegression</label><div class=\"sk-toggleable__content\"><pre>LinearRegression()</pre></div></div></div></div></div>"
      ],
      "text/plain": [
       "LinearRegression()"
      ]
     },
     "execution_count": 38,
     "metadata": {},
     "output_type": "execute_result"
    }
   ],
   "source": [
    "regression1.fit(X_train,y_train)"
   ]
  },
  {
   "cell_type": "code",
   "execution_count": 39,
   "id": "1c7d2528",
   "metadata": {},
   "outputs": [
    {
     "name": "stdout",
     "output_type": "stream",
     "text": [
      "[[1.62774058]]\n"
     ]
    }
   ],
   "source": [
    "print(regression1.coef_)"
   ]
  },
  {
   "cell_type": "code",
   "execution_count": 40,
   "id": "88288964",
   "metadata": {},
   "outputs": [],
   "source": [
    "y_pred=regression1.predict(X_test)"
   ]
  },
  {
   "cell_type": "code",
   "execution_count": 41,
   "id": "5a3ed077",
   "metadata": {},
   "outputs": [
    {
     "name": "stdout",
     "output_type": "stream",
     "text": [
      "[[ 5.30970901]\n",
      " [ 2.99485798]\n",
      " [ 6.51285663]\n",
      " [ 5.11532041]\n",
      " [ 4.41117302]\n",
      " [ 0.61457842]\n",
      " [ 5.42410949]\n",
      " [ 4.56466933]\n",
      " [ 6.87245164]\n",
      " [ 7.3707069 ]\n",
      " [ 6.58560766]\n",
      " [ 7.91016523]\n",
      " [ 7.37234518]\n",
      " [-0.47773921]\n",
      " [ 6.97658055]\n",
      " [ 7.05821855]\n",
      " [ 5.37109021]\n",
      " [ 4.84859562]\n",
      " [ 8.52523936]\n",
      " [ 3.54659683]]\n"
     ]
    }
   ],
   "source": [
    "print(y_pred)"
   ]
  },
  {
   "cell_type": "code",
   "execution_count": 42,
   "id": "62a3adc1",
   "metadata": {},
   "outputs": [
    {
     "name": "stdout",
     "output_type": "stream",
     "text": [
      "0.7456595466368809\n",
      "0.731529521450041\n"
     ]
    }
   ],
   "source": [
    "## R square and adjusted r sq\n",
    "\n",
    "from sklearn.metrics import r2_score\n",
    "r2score=r2_score(y_test,y_pred)\n",
    "adjustedRsq=1-(1-r2score)*(len(y_test)-1)/(len(y_test)-X_test.shape[1]-1)\n",
    "print(r2score)\n",
    "print(adjustedRsq)\n",
    "\n",
    "## you can see r square is very very high - because SImple LR - is not rigth method"
   ]
  },
  {
   "cell_type": "code",
   "execution_count": 43,
   "id": "7b9612fa",
   "metadata": {},
   "outputs": [
    {
     "name": "stdout",
     "output_type": "stream",
     "text": [
      "1.8150631695895096\n",
      "1.103065764665585\n",
      "1.34724280276033\n"
     ]
    }
   ],
   "source": [
    "## Performance metrics\n",
    "\n",
    "from sklearn.metrics import mean_absolute_error,mean_squared_error\n",
    "mse=mean_squared_error(y_test,y_pred)\n",
    "mae=mean_absolute_error(y_test,y_pred)\n",
    "rmse=np.sqrt(mse)\n",
    "print(mse)\n",
    "print(mae)\n",
    "print(rmse)"
   ]
  },
  {
   "cell_type": "code",
   "execution_count": 54,
   "id": "7af6c1c3",
   "metadata": {},
   "outputs": [
    {
     "data": {
      "text/plain": [
       "Text(0, 0.5, 'Y')"
      ]
     },
     "execution_count": 54,
     "metadata": {},
     "output_type": "execute_result"
    },
    {
     "data": {
      "image/png": "[encoded data removed]",
      "text/plain": [
       "<Figure size 640x480 with 1 Axes>"
      ]
     },
     "metadata": {},
     "output_type": "display_data"
    }
   ],
   "source": [
    "## visualise with SLR\n",
    "plt.plot(X_train,regression1.predict(X_train),color='r')\n",
    "##plt.scatter(X_test,y_train)\n",
    "plt.xlabel('X dataset')\n",
    "plt.ylabel('Y')"
   ]
  },
  {
   "cell_type": "code",
   "execution_count": null,
   "id": "28b3ed56",
   "metadata": {},
   "outputs": [],
   "source": [
    "## equation we are using above is 0 degree  with 1 input ; so we will now increase the degree to make a generalised model"
   ]
  },
  {
   "cell_type": "code",
   "execution_count": 55,
   "id": "d8e91447",
   "metadata": {},
   "outputs": [],
   "source": [
    "## applying polynomial transformation\n",
    "from sklearn.preprocessing import PolynomialFeatures\n",
    "poly=PolynomialFeatures(degree=2,include_bias=True)"
   ]
  },
  {
   "cell_type": "code",
   "execution_count": 56,
   "id": "2fa51d36",
   "metadata": {},
   "outputs": [],
   "source": [
    "X_train_poly=poly.fit_transform(X_train)\n",
    "X_test_poly=poly.transform(X_test)"
   ]
  },
  {
   "cell_type": "code",
   "execution_count": 57,
   "id": "fad3162c",
   "metadata": {},
   "outputs": [
    {
     "data": {
      "text/plain": [
       "array([[ 1.00000000e+00, -1.08489766e+00,  1.17700293e+00],\n",
       "       [ 1.00000000e+00, -5.71152520e-01,  3.26215201e-01],\n",
       "       [ 1.00000000e+00, -6.43130361e-01,  4.13616661e-01],\n",
       "       [ 1.00000000e+00,  1.88991607e+00,  3.57178275e+00],\n",
       "       [ 1.00000000e+00, -1.52370318e-01,  2.32167137e-02],\n",
       "       [ 1.00000000e+00,  1.64869962e+00,  2.71821043e+00],\n",
       "       [ 1.00000000e+00, -1.85466353e+00,  3.43977680e+00],\n",
       "       [ 1.00000000e+00, -1.46576802e+00,  2.14847589e+00],\n",
       "       [ 1.00000000e+00, -1.19339741e+00,  1.42419738e+00],\n",
       "       [ 1.00000000e+00, -1.40108585e+00,  1.96304157e+00],\n",
       "       [ 1.00000000e+00, -1.17892476e+00,  1.38986359e+00],\n",
       "       [ 1.00000000e+00,  1.13364672e-01,  1.28515488e-02],\n",
       "       [ 1.00000000e+00,  1.40114314e+00,  1.96320210e+00],\n",
       "       [ 1.00000000e+00, -1.90475457e+00,  3.62808996e+00],\n",
       "       [ 1.00000000e+00,  2.07476775e+00,  4.30466121e+00],\n",
       "       [ 1.00000000e+00, -2.96046510e+00,  8.76435362e+00],\n",
       "       [ 1.00000000e+00, -1.78367642e+00,  3.18150156e+00],\n",
       "       [ 1.00000000e+00,  1.75815062e-01,  3.09109359e-02],\n",
       "       [ 1.00000000e+00,  2.09323210e+00,  4.38162064e+00],\n",
       "       [ 1.00000000e+00, -5.35802418e-01,  2.87084231e-01],\n",
       "       [ 1.00000000e+00, -2.88904114e+00,  8.34655869e+00],\n",
       "       [ 1.00000000e+00,  1.41363438e+00,  1.99836215e+00],\n",
       "       [ 1.00000000e+00, -2.78959833e+00,  7.78185882e+00],\n",
       "       [ 1.00000000e+00, -8.48554542e-01,  7.20044811e-01],\n",
       "       [ 1.00000000e+00, -1.03470294e+00,  1.07061016e+00],\n",
       "       [ 1.00000000e+00, -1.24629373e-01,  1.55324807e-02],\n",
       "       [ 1.00000000e+00,  2.22174672e+00,  4.93615850e+00],\n",
       "       [ 1.00000000e+00, -1.21376238e-01,  1.47321912e-02],\n",
       "       [ 1.00000000e+00,  1.32914622e+00,  1.76662967e+00],\n",
       "       [ 1.00000000e+00,  2.86139861e+00,  8.18760202e+00],\n",
       "       [ 1.00000000e+00,  4.82050667e-01,  2.32372846e-01],\n",
       "       [ 1.00000000e+00, -2.51177968e-01,  6.30903716e-02],\n",
       "       [ 1.00000000e+00, -1.02557074e-01,  1.05179533e-02],\n",
       "       [ 1.00000000e+00,  2.24212891e+00,  5.02714207e+00],\n",
       "       [ 1.00000000e+00,  1.27470845e+00,  1.62488163e+00],\n",
       "       [ 1.00000000e+00, -8.80223986e-01,  7.74794265e-01],\n",
       "       [ 1.00000000e+00, -2.53500420e-01,  6.42624629e-02],\n",
       "       [ 1.00000000e+00,  2.62811243e+00,  6.90697495e+00],\n",
       "       [ 1.00000000e+00, -2.95782279e-01,  8.74871567e-02],\n",
       "       [ 1.00000000e+00, -1.27775301e+00,  1.63265277e+00],\n",
       "       [ 1.00000000e+00,  1.22946694e+00,  1.51158895e+00],\n",
       "       [ 1.00000000e+00, -2.25688430e+00,  5.09352672e+00],\n",
       "       [ 1.00000000e+00,  2.96135151e+00,  8.76960274e+00],\n",
       "       [ 1.00000000e+00, -1.01173946e+00,  1.02361673e+00],\n",
       "       [ 1.00000000e+00,  1.20502477e+00,  1.45208469e+00],\n",
       "       [ 1.00000000e+00,  2.76714768e-01,  7.65710628e-02],\n",
       "       [ 1.00000000e+00,  2.91058736e+00,  8.47151879e+00],\n",
       "       [ 1.00000000e+00,  2.63153121e+00,  6.92495653e+00],\n",
       "       [ 1.00000000e+00,  2.05600314e+00,  4.22714892e+00],\n",
       "       [ 1.00000000e+00, -4.93205416e-02,  2.43251583e-03],\n",
       "       [ 1.00000000e+00,  1.27946001e+00,  1.63701791e+00],\n",
       "       [ 1.00000000e+00,  7.31140330e-01,  5.34566182e-01],\n",
       "       [ 1.00000000e+00, -1.57527659e+00,  2.48149635e+00],\n",
       "       [ 1.00000000e+00, -2.69934926e+00,  7.28648643e+00],\n",
       "       [ 1.00000000e+00,  1.08617759e+00,  1.17978176e+00],\n",
       "       [ 1.00000000e+00,  1.54218877e+00,  2.37834621e+00],\n",
       "       [ 1.00000000e+00,  1.42078583e+00,  2.01863237e+00],\n",
       "       [ 1.00000000e+00, -6.64014840e-01,  4.40915708e-01],\n",
       "       [ 1.00000000e+00,  2.37618097e+00,  5.64623600e+00],\n",
       "       [ 1.00000000e+00,  5.31856576e-01,  2.82871418e-01],\n",
       "       [ 1.00000000e+00,  1.38111355e+00,  1.90747464e+00],\n",
       "       [ 1.00000000e+00,  2.91134084e+00,  8.47590546e+00],\n",
       "       [ 1.00000000e+00, -2.33167273e+00,  5.43669773e+00],\n",
       "       [ 1.00000000e+00,  1.01078221e+00,  1.02168069e+00],\n",
       "       [ 1.00000000e+00,  9.24183920e-01,  8.54115918e-01],\n",
       "       [ 1.00000000e+00, -2.68052396e+00,  7.18520868e+00],\n",
       "       [ 1.00000000e+00,  1.60067990e-02,  2.56217613e-04],\n",
       "       [ 1.00000000e+00,  2.71632119e+00,  7.37840083e+00],\n",
       "       [ 1.00000000e+00, -2.28817803e+00,  5.23575871e+00],\n",
       "       [ 1.00000000e+00, -2.67994164e-02,  7.18208719e-04],\n",
       "       [ 1.00000000e+00,  2.56729283e+00,  6.59099250e+00],\n",
       "       [ 1.00000000e+00,  2.85463495e+00,  8.14894067e+00],\n",
       "       [ 1.00000000e+00, -4.99254071e-01,  2.49254627e-01],\n",
       "       [ 1.00000000e+00, -1.62908570e+00,  2.65392023e+00],\n",
       "       [ 1.00000000e+00, -2.17604824e+00,  4.73518595e+00],\n",
       "       [ 1.00000000e+00, -2.75176085e-01,  7.57218779e-02],\n",
       "       [ 1.00000000e+00,  1.67440415e+00,  2.80362927e+00],\n",
       "       [ 1.00000000e+00,  2.09886333e+00,  4.40522730e+00],\n",
       "       [ 1.00000000e+00,  4.57211000e-02,  2.09041899e-03],\n",
       "       [ 1.00000000e+00,  1.81880126e+00,  3.30803803e+00]])"
      ]
     },
     "execution_count": 57,
     "metadata": {},
     "output_type": "execute_result"
    }
   ],
   "source": [
    "X_train_poly"
   ]
  },
  {
   "cell_type": "code",
   "execution_count": 58,
   "id": "a9e285d6",
   "metadata": {},
   "outputs": [
    {
     "data": {
      "text/plain": [
       "array([[ 1.        ,  0.85159029,  0.72520602],\n",
       "       [ 1.        , -0.57053499,  0.32551018],\n",
       "       [ 1.        ,  1.59074223,  2.53046085],\n",
       "       [ 1.        ,  0.73216794,  0.53606989],\n",
       "       [ 1.        ,  0.29957604,  0.0897458 ],\n",
       "       [ 1.        , -2.03285619,  4.13250431],\n",
       "       [ 1.        ,  0.92187205,  0.84984808],\n",
       "       [ 1.        ,  0.39387627,  0.15513852],\n",
       "       [ 1.        ,  1.81165889,  3.28210795],\n",
       "       [ 1.        ,  2.11776127,  4.4849128 ],\n",
       "       [ 1.        ,  1.63543672,  2.67465326],\n",
       "       [ 1.        ,  2.44917669,  5.99846645],\n",
       "       [ 1.        ,  2.11876775,  4.48917677],\n",
       "       [ 1.        , -2.7039199 ,  7.31118285],\n",
       "       [ 1.        ,  1.87563034,  3.51798916],\n",
       "       [ 1.        ,  1.92578452,  3.70864601],\n",
       "       [ 1.        ,  0.88929973,  0.79085402],\n",
       "       [ 1.        ,  0.56830596,  0.32297167],\n",
       "       [ 1.        ,  2.82704656,  7.99219228],\n",
       "       [ 1.        , -0.23157505,  0.053627  ]])"
      ]
     },
     "execution_count": 58,
     "metadata": {},
     "output_type": "execute_result"
    }
   ],
   "source": [
    "X_test_poly"
   ]
  },
  {
   "cell_type": "code",
   "execution_count": 68,
   "id": "ab1d1221",
   "metadata": {},
   "outputs": [],
   "source": [
    "## now apply LR\n",
    "from sklearn.linear_model import LinearRegression\n",
    "regression2=LinearRegression()\n",
    "regression2.fit(X_train_poly,y_train)\n",
    "y_pred=regression2.predict(X_test_poly)"
   ]
  },
  {
   "cell_type": "code",
   "execution_count": 69,
   "id": "c5da8bd4",
   "metadata": {},
   "outputs": [
    {
     "data": {
      "text/plain": [
       "array([[ 4.16904307],\n",
       "       [ 1.85663238],\n",
       "       [ 6.16118449],\n",
       "       [ 3.89790065],\n",
       "       [ 3.03385131],\n",
       "       [ 1.56542877],\n",
       "       [ 4.33520975],\n",
       "       [ 3.20642359],\n",
       "       [ 6.8615127 ],\n",
       "       [ 7.9116914 ],\n",
       "       [ 6.29897434],\n",
       "       [ 9.15323253],\n",
       "       [ 7.91529734],\n",
       "       [ 2.14000113],\n",
       "       [ 7.07332411],\n",
       "       [ 7.24221765],\n",
       "       [ 4.25759164],\n",
       "       [ 3.54882324],\n",
       "       [10.70138405],\n",
       "       [ 2.22616689]])"
      ]
     },
     "execution_count": 69,
     "metadata": {},
     "output_type": "execute_result"
    }
   ],
   "source": [
    "y_pred"
   ]
  },
  {
   "cell_type": "code",
   "execution_count": 70,
   "id": "9438c3fe",
   "metadata": {},
   "outputs": [
    {
     "name": "stdout",
     "output_type": "stream",
     "text": [
      "0.9858638788231167\n"
     ]
    }
   ],
   "source": [
    "## R square and adjusted r sq\n",
    "\n",
    "from sklearn.metrics import r2_score\n",
    "r2score_poly=r2_score(y_test,y_pred)\n",
    "\n",
    "print(r2score_poly)\n"
   ]
  },
  {
   "cell_type": "code",
   "execution_count": 71,
   "id": "a82474fa",
   "metadata": {},
   "outputs": [
    {
     "name": "stdout",
     "output_type": "stream",
     "text": [
      "[[0.         1.48699132 0.49468301]]\n"
     ]
    }
   ],
   "source": [
    "print(regression2.coef_)\n",
    "\n",
    "## 3 coeffients - beacuse 3 slope with degree 2 polynomial"
   ]
  },
  {
   "cell_type": "code",
   "execution_count": 75,
   "id": "3386a364",
   "metadata": {},
   "outputs": [
    {
     "data": {
      "text/plain": [
       "<matplotlib.collections.PathCollection at 0x19318ff3250>"
      ]
     },
     "execution_count": 75,
     "metadata": {},
     "output_type": "execute_result"
    },
    {
     "data": {
      "image/png": "[encoded data removed]",
      "text/plain": [
       "<Figure size 640x480 with 1 Axes>"
      ]
     },
     "metadata": {},
     "output_type": "display_data"
    }
   ],
   "source": [
    "## plot\n",
    "plt.scatter(X_train,regression2.predict(X_train_poly),color='r')\n",
    "plt.scatter(X_train,y_train)\n",
    "\n",
    "## compare both- degree 2 curve still does have some error ( yet not best fit curve)"
   ]
  },
  {
   "cell_type": "code",
   "execution_count": 76,
   "id": "3d02f976",
   "metadata": {},
   "outputs": [],
   "source": [
    "### lets see if degree value 3 - will accuracy increase?\n",
    "\n",
    "from sklearn.preprocessing import PolynomialFeatures\n",
    "poly=PolynomialFeatures(degree=3,include_bias=True)\n",
    "X_train_poly=poly.fit_transform(X_train)\n",
    "X_test_poly=poly.transform(X_test)"
   ]
  },
  {
   "cell_type": "code",
   "execution_count": 77,
   "id": "064a8774",
   "metadata": {},
   "outputs": [
    {
     "data": {
      "text/plain": [
       "array([[ 1.00000000e+00, -1.08489766e+00,  1.17700293e+00,\n",
       "        -1.27692773e+00],\n",
       "       [ 1.00000000e+00, -5.71152520e-01,  3.26215201e-01,\n",
       "        -1.86318634e-01],\n",
       "       [ 1.00000000e+00, -6.43130361e-01,  4.13616661e-01,\n",
       "        -2.66009433e-01],\n",
       "       [ 1.00000000e+00,  1.88991607e+00,  3.57178275e+00,\n",
       "         6.75036963e+00],\n",
       "       [ 1.00000000e+00, -1.52370318e-01,  2.32167137e-02,\n",
       "        -3.53753805e-03],\n",
       "       [ 1.00000000e+00,  1.64869962e+00,  2.71821043e+00,\n",
       "         4.48151249e+00],\n",
       "       [ 1.00000000e+00, -1.85466353e+00,  3.43977680e+00,\n",
       "        -6.37962858e+00],\n",
       "       [ 1.00000000e+00, -1.46576802e+00,  2.14847589e+00,\n",
       "        -3.14916726e+00],\n",
       "       [ 1.00000000e+00, -1.19339741e+00,  1.42419738e+00,\n",
       "        -1.69963347e+00],\n",
       "       [ 1.00000000e+00, -1.40108585e+00,  1.96304157e+00,\n",
       "        -2.75038977e+00],\n",
       "       [ 1.00000000e+00, -1.17892476e+00,  1.38986359e+00,\n",
       "        -1.63854459e+00],\n",
       "       [ 1.00000000e+00,  1.13364672e-01,  1.28515488e-02,\n",
       "         1.45691161e-03],\n",
       "       [ 1.00000000e+00,  1.40114314e+00,  1.96320210e+00,\n",
       "         2.75072716e+00],\n",
       "       [ 1.00000000e+00, -1.90475457e+00,  3.62808996e+00,\n",
       "        -6.91062091e+00],\n",
       "       [ 1.00000000e+00,  2.07476775e+00,  4.30466121e+00,\n",
       "         8.93117225e+00],\n",
       "       [ 1.00000000e+00, -2.96046510e+00,  8.76435362e+00,\n",
       "        -2.59465630e+01],\n",
       "       [ 1.00000000e+00, -1.78367642e+00,  3.18150156e+00,\n",
       "        -5.67476931e+00],\n",
       "       [ 1.00000000e+00,  1.75815062e-01,  3.09109359e-02,\n",
       "         5.43460809e-03],\n",
       "       [ 1.00000000e+00,  2.09323210e+00,  4.38162064e+00,\n",
       "         9.17174898e+00],\n",
       "       [ 1.00000000e+00, -5.35802418e-01,  2.87084231e-01,\n",
       "        -1.53820425e-01],\n",
       "       [ 1.00000000e+00, -2.88904114e+00,  8.34655869e+00,\n",
       "        -2.41135514e+01],\n",
       "       [ 1.00000000e+00,  1.41363438e+00,  1.99836215e+00,\n",
       "         2.82495344e+00],\n",
       "       [ 1.00000000e+00, -2.78959833e+00,  7.78185882e+00,\n",
       "        -2.17082603e+01],\n",
       "       [ 1.00000000e+00, -8.48554542e-01,  7.20044811e-01,\n",
       "        -6.10997295e-01],\n",
       "       [ 1.00000000e+00, -1.03470294e+00,  1.07061016e+00,\n",
       "        -1.10776348e+00],\n",
       "       [ 1.00000000e+00, -1.24629373e-01,  1.55324807e-02,\n",
       "        -1.93580333e-03],\n",
       "       [ 1.00000000e+00,  2.22174672e+00,  4.93615850e+00,\n",
       "         1.09668940e+01],\n",
       "       [ 1.00000000e+00, -1.21376238e-01,  1.47321912e-02,\n",
       "        -1.78813795e-03],\n",
       "       [ 1.00000000e+00,  1.32914622e+00,  1.76662967e+00,\n",
       "         2.34810915e+00],\n",
       "       [ 1.00000000e+00,  2.86139861e+00,  8.18760202e+00,\n",
       "         2.34279931e+01],\n",
       "       [ 1.00000000e+00,  4.82050667e-01,  2.32372846e-01,\n",
       "         1.12015485e-01],\n",
       "       [ 1.00000000e+00, -2.51177968e-01,  6.30903716e-02,\n",
       "        -1.58469113e-02],\n",
       "       [ 1.00000000e+00, -1.02557074e-01,  1.05179533e-02,\n",
       "        -1.07869051e-03],\n",
       "       [ 1.00000000e+00,  2.24212891e+00,  5.02714207e+00,\n",
       "         1.12715006e+01],\n",
       "       [ 1.00000000e+00,  1.27470845e+00,  1.62488163e+00,\n",
       "         2.07125034e+00],\n",
       "       [ 1.00000000e+00, -8.80223986e-01,  7.74794265e-01,\n",
       "        -6.81992497e-01],\n",
       "       [ 1.00000000e+00, -2.53500420e-01,  6.42624629e-02,\n",
       "        -1.62905613e-02],\n",
       "       [ 1.00000000e+00,  2.62811243e+00,  6.90697495e+00,\n",
       "         1.81523067e+01],\n",
       "       [ 1.00000000e+00, -2.95782279e-01,  8.74871567e-02,\n",
       "        -2.58771506e-02],\n",
       "       [ 1.00000000e+00, -1.27775301e+00,  1.63265277e+00,\n",
       "        -2.08612699e+00],\n",
       "       [ 1.00000000e+00,  1.22946694e+00,  1.51158895e+00,\n",
       "         1.85844863e+00],\n",
       "       [ 1.00000000e+00, -2.25688430e+00,  5.09352672e+00,\n",
       "        -1.14955005e+01],\n",
       "       [ 1.00000000e+00,  2.96135151e+00,  8.76960274e+00,\n",
       "         2.59698763e+01],\n",
       "       [ 1.00000000e+00, -1.01173946e+00,  1.02361673e+00,\n",
       "        -1.03563343e+00],\n",
       "       [ 1.00000000e+00,  1.20502477e+00,  1.45208469e+00,\n",
       "         1.74979801e+00],\n",
       "       [ 1.00000000e+00,  2.76714768e-01,  7.65710628e-02,\n",
       "         2.11883439e-02],\n",
       "       [ 1.00000000e+00,  2.91058736e+00,  8.47151879e+00,\n",
       "         2.46570955e+01],\n",
       "       [ 1.00000000e+00,  2.63153121e+00,  6.92495653e+00,\n",
       "         1.82232393e+01],\n",
       "       [ 1.00000000e+00,  2.05600314e+00,  4.22714892e+00,\n",
       "         8.69103146e+00],\n",
       "       [ 1.00000000e+00, -4.93205416e-02,  2.43251583e-03,\n",
       "        -1.19972998e-04],\n",
       "       [ 1.00000000e+00,  1.27946001e+00,  1.63701791e+00,\n",
       "         2.09449894e+00],\n",
       "       [ 1.00000000e+00,  7.31140330e-01,  5.34566182e-01,\n",
       "         3.90842895e-01],\n",
       "       [ 1.00000000e+00, -1.57527659e+00,  2.48149635e+00,\n",
       "        -3.90904311e+00],\n",
       "       [ 1.00000000e+00, -2.69934926e+00,  7.28648643e+00,\n",
       "        -1.96687718e+01],\n",
       "       [ 1.00000000e+00,  1.08617759e+00,  1.17978176e+00,\n",
       "         1.28145251e+00],\n",
       "       [ 1.00000000e+00,  1.54218877e+00,  2.37834621e+00,\n",
       "         3.66785882e+00],\n",
       "       [ 1.00000000e+00,  1.42078583e+00,  2.01863237e+00,\n",
       "         2.86804427e+00],\n",
       "       [ 1.00000000e+00, -6.64014840e-01,  4.40915708e-01,\n",
       "        -2.92774574e-01],\n",
       "       [ 1.00000000e+00,  2.37618097e+00,  5.64623600e+00,\n",
       "         1.34164785e+01],\n",
       "       [ 1.00000000e+00,  5.31856576e-01,  2.82871418e-01,\n",
       "         1.50447024e-01],\n",
       "       [ 1.00000000e+00,  1.38111355e+00,  1.90747464e+00,\n",
       "         2.63443908e+00],\n",
       "       [ 1.00000000e+00,  2.91134084e+00,  8.47590546e+00,\n",
       "         2.46762497e+01],\n",
       "       [ 1.00000000e+00, -2.33167273e+00,  5.43669773e+00,\n",
       "        -1.26765998e+01],\n",
       "       [ 1.00000000e+00,  1.01078221e+00,  1.02168069e+00,\n",
       "         1.03269667e+00],\n",
       "       [ 1.00000000e+00,  9.24183920e-01,  8.54115918e-01,\n",
       "         7.89360198e-01],\n",
       "       [ 1.00000000e+00, -2.68052396e+00,  7.18520868e+00,\n",
       "        -1.92601240e+01],\n",
       "       [ 1.00000000e+00,  1.60067990e-02,  2.56217613e-04,\n",
       "         4.10122383e-06],\n",
       "       [ 1.00000000e+00,  2.71632119e+00,  7.37840083e+00,\n",
       "         2.00421066e+01],\n",
       "       [ 1.00000000e+00, -2.28817803e+00,  5.23575871e+00,\n",
       "        -1.19803481e+01],\n",
       "       [ 1.00000000e+00, -2.67994164e-02,  7.18208719e-04,\n",
       "        -1.92475745e-05],\n",
       "       [ 1.00000000e+00,  2.56729283e+00,  6.59099250e+00,\n",
       "         1.69210078e+01],\n",
       "       [ 1.00000000e+00,  2.85463495e+00,  8.14894067e+00,\n",
       "         2.32622508e+01],\n",
       "       [ 1.00000000e+00, -4.99254071e-01,  2.49254627e-01,\n",
       "        -1.24441388e-01],\n",
       "       [ 1.00000000e+00, -1.62908570e+00,  2.65392023e+00,\n",
       "        -4.32346350e+00],\n",
       "       [ 1.00000000e+00, -2.17604824e+00,  4.73518595e+00,\n",
       "        -1.03039930e+01],\n",
       "       [ 1.00000000e+00, -2.75176085e-01,  7.57218779e-02,\n",
       "        -2.08368499e-02],\n",
       "       [ 1.00000000e+00,  1.67440415e+00,  2.80362927e+00,\n",
       "         4.69440848e+00],\n",
       "       [ 1.00000000e+00,  2.09886333e+00,  4.40522730e+00,\n",
       "         9.24597005e+00],\n",
       "       [ 1.00000000e+00,  4.57211000e-02,  2.09041899e-03,\n",
       "         9.55762555e-05],\n",
       "       [ 1.00000000e+00,  1.81880126e+00,  3.30803803e+00,\n",
       "         6.01666375e+00]])"
      ]
     },
     "execution_count": 77,
     "metadata": {},
     "output_type": "execute_result"
    }
   ],
   "source": [
    "X_train_poly\n",
    "\n",
    "## 4 values - beacuse 4 beta's"
   ]
  },
  {
   "cell_type": "code",
   "execution_count": 78,
   "id": "26abddc1",
   "metadata": {},
   "outputs": [
    {
     "name": "stdout",
     "output_type": "stream",
     "text": [
      "0.9859721797551418\n"
     ]
    }
   ],
   "source": [
    "## accuracy by r sq value\n",
    "## now apply LR\n",
    "from sklearn.linear_model import LinearRegression\n",
    "regression3=LinearRegression()\n",
    "regression3.fit(X_train_poly,y_train)\n",
    "y_pred=regression3.predict(X_test_poly)\n",
    "\n",
    "from sklearn.metrics import r2_score\n",
    "r2score_polydegree3=r2_score(y_test,y_pred)\n",
    "\n",
    "print(r2score_polydegree3)\n",
    "\n"
   ]
  },
  {
   "cell_type": "code",
   "execution_count": null,
   "id": "f3d68232",
   "metadata": {},
   "outputs": [],
   "source": [
    "## we see hardly any difference from r square in degree 2 PLR"
   ]
  },
  {
   "cell_type": "code",
   "execution_count": 79,
   "id": "97569acb",
   "metadata": {},
   "outputs": [
    {
     "name": "stdout",
     "output_type": "stream",
     "text": [
      "[[0.00000000e+00 1.47989427e+00 4.94495724e-01 1.29250733e-03]]\n"
     ]
    }
   ],
   "source": [
    "print(regression3.coef_)"
   ]
  },
  {
   "cell_type": "code",
   "execution_count": 118,
   "id": "19872820",
   "metadata": {},
   "outputs": [
    {
     "data": {
      "text/plain": [
       "array([[ 1.00000000e+00, -3.00000000e+00,  9.00000000e+00,\n",
       "        -2.70000000e+01],\n",
       "       [ 1.00000000e+00, -2.96984925e+00,  8.82000455e+00,\n",
       "        -2.61940839e+01],\n",
       "       [ 1.00000000e+00, -2.93969849e+00,  8.64182723e+00,\n",
       "        -2.54043665e+01],\n",
       "       [ 1.00000000e+00, -2.90954774e+00,  8.46546804e+00,\n",
       "        -2.46306834e+01],\n",
       "       [ 1.00000000e+00, -2.87939698e+00,  8.29092700e+00,\n",
       "        -2.38728702e+01],\n",
       "       [ 1.00000000e+00, -2.84924623e+00,  8.11820409e+00,\n",
       "        -2.31307624e+01],\n",
       "       [ 1.00000000e+00, -2.81909548e+00,  7.94729931e+00,\n",
       "        -2.24041955e+01],\n",
       "       [ 1.00000000e+00, -2.78894472e+00,  7.77821267e+00,\n",
       "        -2.16930052e+01],\n",
       "       [ 1.00000000e+00, -2.75879397e+00,  7.61094417e+00,\n",
       "        -2.09970269e+01],\n",
       "       [ 1.00000000e+00, -2.72864322e+00,  7.44549380e+00,\n",
       "        -2.03160961e+01],\n",
       "       [ 1.00000000e+00, -2.69849246e+00,  7.28186157e+00,\n",
       "        -1.96500486e+01],\n",
       "       [ 1.00000000e+00, -2.66834171e+00,  7.12004747e+00,\n",
       "        -1.89987196e+01],\n",
       "       [ 1.00000000e+00, -2.63819095e+00,  6.96005151e+00,\n",
       "        -1.83619449e+01],\n",
       "       [ 1.00000000e+00, -2.60804020e+00,  6.80187369e+00,\n",
       "        -1.77395600e+01],\n",
       "       [ 1.00000000e+00, -2.57788945e+00,  6.64551400e+00,\n",
       "        -1.71314004e+01],\n",
       "       [ 1.00000000e+00, -2.54773869e+00,  6.49097245e+00,\n",
       "        -1.65373017e+01],\n",
       "       [ 1.00000000e+00, -2.51758794e+00,  6.33824903e+00,\n",
       "        -1.59570993e+01],\n",
       "       [ 1.00000000e+00, -2.48743719e+00,  6.18734375e+00,\n",
       "        -1.53906289e+01],\n",
       "       [ 1.00000000e+00, -2.45728643e+00,  6.03825661e+00,\n",
       "        -1.48377260e+01],\n",
       "       [ 1.00000000e+00, -2.42713568e+00,  5.89098760e+00,\n",
       "        -1.42982262e+01],\n",
       "       [ 1.00000000e+00, -2.39698492e+00,  5.74553673e+00,\n",
       "        -1.37719649e+01],\n",
       "       [ 1.00000000e+00, -2.36683417e+00,  5.60190399e+00,\n",
       "        -1.32587778e+01],\n",
       "       [ 1.00000000e+00, -2.33668342e+00,  5.46008939e+00,\n",
       "        -1.27585003e+01],\n",
       "       [ 1.00000000e+00, -2.30653266e+00,  5.32009293e+00,\n",
       "        -1.22709681e+01],\n",
       "       [ 1.00000000e+00, -2.27638191e+00,  5.18191460e+00,\n",
       "        -1.17960166e+01],\n",
       "       [ 1.00000000e+00, -2.24623116e+00,  5.04555441e+00,\n",
       "        -1.13334815e+01],\n",
       "       [ 1.00000000e+00, -2.21608040e+00,  4.91101235e+00,\n",
       "        -1.08831982e+01],\n",
       "       [ 1.00000000e+00, -2.18592965e+00,  4.77828843e+00,\n",
       "        -1.04450023e+01],\n",
       "       [ 1.00000000e+00, -2.15577889e+00,  4.64738264e+00,\n",
       "        -1.00187294e+01],\n",
       "       [ 1.00000000e+00, -2.12562814e+00,  4.51829499e+00,\n",
       "        -9.60421498e+00],\n",
       "       [ 1.00000000e+00, -2.09547739e+00,  4.39102548e+00,\n",
       "        -9.20129460e+00],\n",
       "       [ 1.00000000e+00, -2.06532663e+00,  4.26557410e+00,\n",
       "        -8.80980380e+00],\n",
       "       [ 1.00000000e+00, -2.03517588e+00,  4.14194086e+00,\n",
       "        -8.42957813e+00],\n",
       "       [ 1.00000000e+00, -2.00502513e+00,  4.02012575e+00,\n",
       "        -8.06045315e+00],\n",
       "       [ 1.00000000e+00, -1.97487437e+00,  3.90012878e+00,\n",
       "        -7.70226438e+00],\n",
       "       [ 1.00000000e+00, -1.94472362e+00,  3.78194995e+00,\n",
       "        -7.35484739e+00],\n",
       "       [ 1.00000000e+00, -1.91457286e+00,  3.66558925e+00,\n",
       "        -7.01803772e+00],\n",
       "       [ 1.00000000e+00, -1.88442211e+00,  3.55104669e+00,\n",
       "        -6.69167090e+00],\n",
       "       [ 1.00000000e+00, -1.85427136e+00,  3.43832226e+00,\n",
       "        -6.37558249e+00],\n",
       "       [ 1.00000000e+00, -1.82412060e+00,  3.32741597e+00,\n",
       "        -6.06960803e+00],\n",
       "       [ 1.00000000e+00, -1.79396985e+00,  3.21832782e+00,\n",
       "        -5.77358307e+00],\n",
       "       [ 1.00000000e+00, -1.76381910e+00,  3.11105780e+00,\n",
       "        -5.48734316e+00],\n",
       "       [ 1.00000000e+00, -1.73366834e+00,  3.00560592e+00,\n",
       "        -5.21072383e+00],\n",
       "       [ 1.00000000e+00, -1.70351759e+00,  2.90197217e+00,\n",
       "        -4.94356064e+00],\n",
       "       [ 1.00000000e+00, -1.67336683e+00,  2.80015656e+00,\n",
       "        -4.68568912e+00],\n",
       "       [ 1.00000000e+00, -1.64321608e+00,  2.70015909e+00,\n",
       "        -4.43694483e+00],\n",
       "       [ 1.00000000e+00, -1.61306533e+00,  2.60197975e+00,\n",
       "        -4.19716331e+00],\n",
       "       [ 1.00000000e+00, -1.58291457e+00,  2.50561854e+00,\n",
       "        -3.96618011e+00],\n",
       "       [ 1.00000000e+00, -1.55276382e+00,  2.41107548e+00,\n",
       "        -3.74383077e+00],\n",
       "       [ 1.00000000e+00, -1.52261307e+00,  2.31835055e+00,\n",
       "        -3.52995083e+00],\n",
       "       [ 1.00000000e+00, -1.49246231e+00,  2.22744375e+00,\n",
       "        -3.32437585e+00],\n",
       "       [ 1.00000000e+00, -1.46231156e+00,  2.13835509e+00,\n",
       "        -3.12694137e+00],\n",
       "       [ 1.00000000e+00, -1.43216080e+00,  2.05108457e+00,\n",
       "        -2.93748292e+00],\n",
       "       [ 1.00000000e+00, -1.40201005e+00,  1.96563218e+00,\n",
       "        -2.75583607e+00],\n",
       "       [ 1.00000000e+00, -1.37185930e+00,  1.88199793e+00,\n",
       "        -2.58183636e+00],\n",
       "       [ 1.00000000e+00, -1.34170854e+00,  1.80018181e+00,\n",
       "        -2.41531932e+00],\n",
       "       [ 1.00000000e+00, -1.31155779e+00,  1.72018383e+00,\n",
       "        -2.25612051e+00],\n",
       "       [ 1.00000000e+00, -1.28140704e+00,  1.64200399e+00,\n",
       "        -2.10407546e+00],\n",
       "       [ 1.00000000e+00, -1.25125628e+00,  1.56564228e+00,\n",
       "        -1.95901974e+00],\n",
       "       [ 1.00000000e+00, -1.22110553e+00,  1.49109871e+00,\n",
       "        -1.82078888e+00],\n",
       "       [ 1.00000000e+00, -1.19095477e+00,  1.41837327e+00,\n",
       "        -1.68921842e+00],\n",
       "       [ 1.00000000e+00, -1.16080402e+00,  1.34746597e+00,\n",
       "        -1.56414392e+00],\n",
       "       [ 1.00000000e+00, -1.13065327e+00,  1.27837681e+00,\n",
       "        -1.44540091e+00],\n",
       "       [ 1.00000000e+00, -1.10050251e+00,  1.21110578e+00,\n",
       "        -1.33282495e+00],\n",
       "       [ 1.00000000e+00, -1.07035176e+00,  1.14565289e+00,\n",
       "        -1.22625158e+00],\n",
       "       [ 1.00000000e+00, -1.04020101e+00,  1.08201813e+00,\n",
       "        -1.12551635e+00],\n",
       "       [ 1.00000000e+00, -1.01005025e+00,  1.02020151e+00,\n",
       "        -1.03045479e+00],\n",
       "       [ 1.00000000e+00, -9.79899497e-01,  9.60203025e-01,\n",
       "        -9.40902462e-01],\n",
       "       [ 1.00000000e+00, -9.49748744e-01,  9.02022676e-01,\n",
       "        -8.56694904e-01],\n",
       "       [ 1.00000000e+00, -9.19597990e-01,  8.45660463e-01,\n",
       "        -7.77667662e-01],\n",
       "       [ 1.00000000e+00, -8.89447236e-01,  7.91116386e-01,\n",
       "        -7.03656283e-01],\n",
       "       [ 1.00000000e+00, -8.59296482e-01,  7.38390445e-01,\n",
       "        -6.34496312e-01],\n",
       "       [ 1.00000000e+00, -8.29145729e-01,  6.87482639e-01,\n",
       "        -5.70023294e-01],\n",
       "       [ 1.00000000e+00, -7.98994975e-01,  6.38392970e-01,\n",
       "        -5.10072775e-01],\n",
       "       [ 1.00000000e+00, -7.68844221e-01,  5.91121436e-01,\n",
       "        -4.54480300e-01],\n",
       "       [ 1.00000000e+00, -7.38693467e-01,  5.45668039e-01,\n",
       "        -4.03081416e-01],\n",
       "       [ 1.00000000e+00, -7.08542714e-01,  5.02032777e-01,\n",
       "        -3.55711666e-01],\n",
       "       [ 1.00000000e+00, -6.78391960e-01,  4.60215651e-01,\n",
       "        -3.12206597e-01],\n",
       "       [ 1.00000000e+00, -6.48241206e-01,  4.20216661e-01,\n",
       "        -2.72401755e-01],\n",
       "       [ 1.00000000e+00, -6.18090452e-01,  3.82035807e-01,\n",
       "        -2.36132685e-01],\n",
       "       [ 1.00000000e+00, -5.87939698e-01,  3.45673089e-01,\n",
       "        -2.03234932e-01],\n",
       "       [ 1.00000000e+00, -5.57788945e-01,  3.11128507e-01,\n",
       "        -1.73544042e-01],\n",
       "       [ 1.00000000e+00, -5.27638191e-01,  2.78402061e-01,\n",
       "        -1.46895560e-01],\n",
       "       [ 1.00000000e+00, -4.97487437e-01,  2.47493750e-01,\n",
       "        -1.23125031e-01],\n",
       "       [ 1.00000000e+00, -4.67336683e-01,  2.18403576e-01,\n",
       "        -1.02068003e-01],\n",
       "       [ 1.00000000e+00, -4.37185930e-01,  1.91131537e-01,\n",
       "        -8.35600187e-02],\n",
       "       [ 1.00000000e+00, -4.07035176e-01,  1.65677634e-01,\n",
       "        -6.74366251e-02],\n",
       "       [ 1.00000000e+00, -3.76884422e-01,  1.42041868e-01,\n",
       "        -5.35333672e-02],\n",
       "       [ 1.00000000e+00, -3.46733668e-01,  1.20224237e-01,\n",
       "        -4.16857906e-02],\n",
       "       [ 1.00000000e+00, -3.16582915e-01,  1.00224742e-01,\n",
       "        -3.17294409e-02],\n",
       "       [ 1.00000000e+00, -2.86432161e-01,  8.20433827e-02,\n",
       "        -2.34998634e-02],\n",
       "       [ 1.00000000e+00, -2.56281407e-01,  6.56801596e-02,\n",
       "        -1.68326037e-02],\n",
       "       [ 1.00000000e+00, -2.26130653e-01,  5.11350723e-02,\n",
       "        -1.15632073e-02],\n",
       "       [ 1.00000000e+00, -1.95979899e-01,  3.84081210e-02,\n",
       "        -7.52721969e-03],\n",
       "       [ 1.00000000e+00, -1.65829146e-01,  2.74993056e-02,\n",
       "        -4.56018635e-03],\n",
       "       [ 1.00000000e+00, -1.35678392e-01,  1.84086260e-02,\n",
       "        -2.49765278e-03],\n",
       "       [ 1.00000000e+00, -1.05527638e-01,  1.11360824e-02,\n",
       "        -1.17516448e-03],\n",
       "       [ 1.00000000e+00, -7.53768844e-02,  5.68167471e-03,\n",
       "        -4.28266938e-04],\n",
       "       [ 1.00000000e+00, -4.52261307e-02,  2.04540289e-03,\n",
       "        -9.25056585e-05],\n",
       "       [ 1.00000000e+00, -1.50753769e-02,  2.27266988e-04,\n",
       "        -3.42613550e-06],\n",
       "       [ 1.00000000e+00,  1.50753769e-02,  2.27266988e-04,\n",
       "         3.42613550e-06],\n",
       "       [ 1.00000000e+00,  4.52261307e-02,  2.04540289e-03,\n",
       "         9.25056585e-05],\n",
       "       [ 1.00000000e+00,  7.53768844e-02,  5.68167471e-03,\n",
       "         4.28266938e-04],\n",
       "       [ 1.00000000e+00,  1.05527638e-01,  1.11360824e-02,\n",
       "         1.17516448e-03],\n",
       "       [ 1.00000000e+00,  1.35678392e-01,  1.84086260e-02,\n",
       "         2.49765278e-03],\n",
       "       [ 1.00000000e+00,  1.65829146e-01,  2.74993056e-02,\n",
       "         4.56018635e-03],\n",
       "       [ 1.00000000e+00,  1.95979899e-01,  3.84081210e-02,\n",
       "         7.52721969e-03],\n",
       "       [ 1.00000000e+00,  2.26130653e-01,  5.11350723e-02,\n",
       "         1.15632073e-02],\n",
       "       [ 1.00000000e+00,  2.56281407e-01,  6.56801596e-02,\n",
       "         1.68326037e-02],\n",
       "       [ 1.00000000e+00,  2.86432161e-01,  8.20433827e-02,\n",
       "         2.34998634e-02],\n",
       "       [ 1.00000000e+00,  3.16582915e-01,  1.00224742e-01,\n",
       "         3.17294409e-02],\n",
       "       [ 1.00000000e+00,  3.46733668e-01,  1.20224237e-01,\n",
       "         4.16857906e-02],\n",
       "       [ 1.00000000e+00,  3.76884422e-01,  1.42041868e-01,\n",
       "         5.35333672e-02],\n",
       "       [ 1.00000000e+00,  4.07035176e-01,  1.65677634e-01,\n",
       "         6.74366251e-02],\n",
       "       [ 1.00000000e+00,  4.37185930e-01,  1.91131537e-01,\n",
       "         8.35600187e-02],\n",
       "       [ 1.00000000e+00,  4.67336683e-01,  2.18403576e-01,\n",
       "         1.02068003e-01],\n",
       "       [ 1.00000000e+00,  4.97487437e-01,  2.47493750e-01,\n",
       "         1.23125031e-01],\n",
       "       [ 1.00000000e+00,  5.27638191e-01,  2.78402061e-01,\n",
       "         1.46895560e-01],\n",
       "       [ 1.00000000e+00,  5.57788945e-01,  3.11128507e-01,\n",
       "         1.73544042e-01],\n",
       "       [ 1.00000000e+00,  5.87939698e-01,  3.45673089e-01,\n",
       "         2.03234932e-01],\n",
       "       [ 1.00000000e+00,  6.18090452e-01,  3.82035807e-01,\n",
       "         2.36132685e-01],\n",
       "       [ 1.00000000e+00,  6.48241206e-01,  4.20216661e-01,\n",
       "         2.72401755e-01],\n",
       "       [ 1.00000000e+00,  6.78391960e-01,  4.60215651e-01,\n",
       "         3.12206597e-01],\n",
       "       [ 1.00000000e+00,  7.08542714e-01,  5.02032777e-01,\n",
       "         3.55711666e-01],\n",
       "       [ 1.00000000e+00,  7.38693467e-01,  5.45668039e-01,\n",
       "         4.03081416e-01],\n",
       "       [ 1.00000000e+00,  7.68844221e-01,  5.91121436e-01,\n",
       "         4.54480300e-01],\n",
       "       [ 1.00000000e+00,  7.98994975e-01,  6.38392970e-01,\n",
       "         5.10072775e-01],\n",
       "       [ 1.00000000e+00,  8.29145729e-01,  6.87482639e-01,\n",
       "         5.70023294e-01],\n",
       "       [ 1.00000000e+00,  8.59296482e-01,  7.38390445e-01,\n",
       "         6.34496312e-01],\n",
       "       [ 1.00000000e+00,  8.89447236e-01,  7.91116386e-01,\n",
       "         7.03656283e-01],\n",
       "       [ 1.00000000e+00,  9.19597990e-01,  8.45660463e-01,\n",
       "         7.77667662e-01],\n",
       "       [ 1.00000000e+00,  9.49748744e-01,  9.02022676e-01,\n",
       "         8.56694904e-01],\n",
       "       [ 1.00000000e+00,  9.79899497e-01,  9.60203025e-01,\n",
       "         9.40902462e-01],\n",
       "       [ 1.00000000e+00,  1.01005025e+00,  1.02020151e+00,\n",
       "         1.03045479e+00],\n",
       "       [ 1.00000000e+00,  1.04020101e+00,  1.08201813e+00,\n",
       "         1.12551635e+00],\n",
       "       [ 1.00000000e+00,  1.07035176e+00,  1.14565289e+00,\n",
       "         1.22625158e+00],\n",
       "       [ 1.00000000e+00,  1.10050251e+00,  1.21110578e+00,\n",
       "         1.33282495e+00],\n",
       "       [ 1.00000000e+00,  1.13065327e+00,  1.27837681e+00,\n",
       "         1.44540091e+00],\n",
       "       [ 1.00000000e+00,  1.16080402e+00,  1.34746597e+00,\n",
       "         1.56414392e+00],\n",
       "       [ 1.00000000e+00,  1.19095477e+00,  1.41837327e+00,\n",
       "         1.68921842e+00],\n",
       "       [ 1.00000000e+00,  1.22110553e+00,  1.49109871e+00,\n",
       "         1.82078888e+00],\n",
       "       [ 1.00000000e+00,  1.25125628e+00,  1.56564228e+00,\n",
       "         1.95901974e+00],\n",
       "       [ 1.00000000e+00,  1.28140704e+00,  1.64200399e+00,\n",
       "         2.10407546e+00],\n",
       "       [ 1.00000000e+00,  1.31155779e+00,  1.72018383e+00,\n",
       "         2.25612051e+00],\n",
       "       [ 1.00000000e+00,  1.34170854e+00,  1.80018181e+00,\n",
       "         2.41531932e+00],\n",
       "       [ 1.00000000e+00,  1.37185930e+00,  1.88199793e+00,\n",
       "         2.58183636e+00],\n",
       "       [ 1.00000000e+00,  1.40201005e+00,  1.96563218e+00,\n",
       "         2.75583607e+00],\n",
       "       [ 1.00000000e+00,  1.43216080e+00,  2.05108457e+00,\n",
       "         2.93748292e+00],\n",
       "       [ 1.00000000e+00,  1.46231156e+00,  2.13835509e+00,\n",
       "         3.12694137e+00],\n",
       "       [ 1.00000000e+00,  1.49246231e+00,  2.22744375e+00,\n",
       "         3.32437585e+00],\n",
       "       [ 1.00000000e+00,  1.52261307e+00,  2.31835055e+00,\n",
       "         3.52995083e+00],\n",
       "       [ 1.00000000e+00,  1.55276382e+00,  2.41107548e+00,\n",
       "         3.74383077e+00],\n",
       "       [ 1.00000000e+00,  1.58291457e+00,  2.50561854e+00,\n",
       "         3.96618011e+00],\n",
       "       [ 1.00000000e+00,  1.61306533e+00,  2.60197975e+00,\n",
       "         4.19716331e+00],\n",
       "       [ 1.00000000e+00,  1.64321608e+00,  2.70015909e+00,\n",
       "         4.43694483e+00],\n",
       "       [ 1.00000000e+00,  1.67336683e+00,  2.80015656e+00,\n",
       "         4.68568912e+00],\n",
       "       [ 1.00000000e+00,  1.70351759e+00,  2.90197217e+00,\n",
       "         4.94356064e+00],\n",
       "       [ 1.00000000e+00,  1.73366834e+00,  3.00560592e+00,\n",
       "         5.21072383e+00],\n",
       "       [ 1.00000000e+00,  1.76381910e+00,  3.11105780e+00,\n",
       "         5.48734316e+00],\n",
       "       [ 1.00000000e+00,  1.79396985e+00,  3.21832782e+00,\n",
       "         5.77358307e+00],\n",
       "       [ 1.00000000e+00,  1.82412060e+00,  3.32741597e+00,\n",
       "         6.06960803e+00],\n",
       "       [ 1.00000000e+00,  1.85427136e+00,  3.43832226e+00,\n",
       "         6.37558249e+00],\n",
       "       [ 1.00000000e+00,  1.88442211e+00,  3.55104669e+00,\n",
       "         6.69167090e+00],\n",
       "       [ 1.00000000e+00,  1.91457286e+00,  3.66558925e+00,\n",
       "         7.01803772e+00],\n",
       "       [ 1.00000000e+00,  1.94472362e+00,  3.78194995e+00,\n",
       "         7.35484739e+00],\n",
       "       [ 1.00000000e+00,  1.97487437e+00,  3.90012878e+00,\n",
       "         7.70226438e+00],\n",
       "       [ 1.00000000e+00,  2.00502513e+00,  4.02012575e+00,\n",
       "         8.06045315e+00],\n",
       "       [ 1.00000000e+00,  2.03517588e+00,  4.14194086e+00,\n",
       "         8.42957813e+00],\n",
       "       [ 1.00000000e+00,  2.06532663e+00,  4.26557410e+00,\n",
       "         8.80980380e+00],\n",
       "       [ 1.00000000e+00,  2.09547739e+00,  4.39102548e+00,\n",
       "         9.20129460e+00],\n",
       "       [ 1.00000000e+00,  2.12562814e+00,  4.51829499e+00,\n",
       "         9.60421498e+00],\n",
       "       [ 1.00000000e+00,  2.15577889e+00,  4.64738264e+00,\n",
       "         1.00187294e+01],\n",
       "       [ 1.00000000e+00,  2.18592965e+00,  4.77828843e+00,\n",
       "         1.04450023e+01],\n",
       "       [ 1.00000000e+00,  2.21608040e+00,  4.91101235e+00,\n",
       "         1.08831982e+01],\n",
       "       [ 1.00000000e+00,  2.24623116e+00,  5.04555441e+00,\n",
       "         1.13334815e+01],\n",
       "       [ 1.00000000e+00,  2.27638191e+00,  5.18191460e+00,\n",
       "         1.17960166e+01],\n",
       "       [ 1.00000000e+00,  2.30653266e+00,  5.32009293e+00,\n",
       "         1.22709681e+01],\n",
       "       [ 1.00000000e+00,  2.33668342e+00,  5.46008939e+00,\n",
       "         1.27585003e+01],\n",
       "       [ 1.00000000e+00,  2.36683417e+00,  5.60190399e+00,\n",
       "         1.32587778e+01],\n",
       "       [ 1.00000000e+00,  2.39698492e+00,  5.74553673e+00,\n",
       "         1.37719649e+01],\n",
       "       [ 1.00000000e+00,  2.42713568e+00,  5.89098760e+00,\n",
       "         1.42982262e+01],\n",
       "       [ 1.00000000e+00,  2.45728643e+00,  6.03825661e+00,\n",
       "         1.48377260e+01],\n",
       "       [ 1.00000000e+00,  2.48743719e+00,  6.18734375e+00,\n",
       "         1.53906289e+01],\n",
       "       [ 1.00000000e+00,  2.51758794e+00,  6.33824903e+00,\n",
       "         1.59570993e+01],\n",
       "       [ 1.00000000e+00,  2.54773869e+00,  6.49097245e+00,\n",
       "         1.65373017e+01],\n",
       "       [ 1.00000000e+00,  2.57788945e+00,  6.64551400e+00,\n",
       "         1.71314004e+01],\n",
       "       [ 1.00000000e+00,  2.60804020e+00,  6.80187369e+00,\n",
       "         1.77395600e+01],\n",
       "       [ 1.00000000e+00,  2.63819095e+00,  6.96005151e+00,\n",
       "         1.83619449e+01],\n",
       "       [ 1.00000000e+00,  2.66834171e+00,  7.12004747e+00,\n",
       "         1.89987196e+01],\n",
       "       [ 1.00000000e+00,  2.69849246e+00,  7.28186157e+00,\n",
       "         1.96500486e+01],\n",
       "       [ 1.00000000e+00,  2.72864322e+00,  7.44549380e+00,\n",
       "         2.03160961e+01],\n",
       "       [ 1.00000000e+00,  2.75879397e+00,  7.61094417e+00,\n",
       "         2.09970269e+01],\n",
       "       [ 1.00000000e+00,  2.78894472e+00,  7.77821267e+00,\n",
       "         2.16930052e+01],\n",
       "       [ 1.00000000e+00,  2.81909548e+00,  7.94729931e+00,\n",
       "         2.24041955e+01],\n",
       "       [ 1.00000000e+00,  2.84924623e+00,  8.11820409e+00,\n",
       "         2.31307624e+01],\n",
       "       [ 1.00000000e+00,  2.87939698e+00,  8.29092700e+00,\n",
       "         2.38728702e+01],\n",
       "       [ 1.00000000e+00,  2.90954774e+00,  8.46546804e+00,\n",
       "         2.46306834e+01],\n",
       "       [ 1.00000000e+00,  2.93969849e+00,  8.64182723e+00,\n",
       "         2.54043665e+01],\n",
       "       [ 1.00000000e+00,  2.96984925e+00,  8.82000455e+00,\n",
       "         2.61940839e+01],\n",
       "       [ 1.00000000e+00,  3.00000000e+00,  9.00000000e+00,\n",
       "         2.70000000e+01]])"
      ]
     },
     "execution_count": 118,
     "metadata": {},
     "output_type": "execute_result"
    }
   ],
   "source": [
    "##### prediction of new data ; lets consider new data for degree 3 , once transform applied - it will have 4 beta values\n",
    "\n",
    "X_new=np.linspace(-3,3,200).reshape(200,1)\n",
    "X_new_poly=poly.transform(X_new)\n",
    "X_new_poly"
   ]
  },
  {
   "cell_type": "code",
   "execution_count": 123,
   "id": "1478156a",
   "metadata": {},
   "outputs": [
    {
     "data": {
      "image/png": "[encoded data removed]",
      "text/plain": [
       "<Figure size 640x480 with 1 Axes>"
      ]
     },
     "metadata": {},
     "output_type": "display_data"
    }
   ],
   "source": [
    "### apply regression model to evaluate y_pred_new=y_new on input data= generalised polynomial =X_new_poly\n",
    "## using regression3 model which was polynomial\n",
    "y_new=regression3.predict(X_new_poly)\n",
    "plt.plot(X_new,y_new,\"r-\",label=\"New predictions\")\n",
    "plt.plot(X_train,y_train,\"b.\",label=\"Training points\")\n",
    "plt.plot(X_test,y_test,\"g.\",label=\"Testing points\")\n",
    "plt.xlabel(\"X\")\n",
    "plt.ylabel(\"y\")\n",
    "plt.legend()\n",
    "plt.show()"
   ]
  },
  {
   "cell_type": "markdown",
   "id": "a31b2f46",
   "metadata": {},
   "source": [
    "#### Pipeline Concepts - used for making generalised function for polynomial linear regression"
   ]
  },
  {
   "cell_type": "code",
   "execution_count": 125,
   "id": "7d0db50e",
   "metadata": {},
   "outputs": [],
   "source": [
    "from sklearn.pipeline import Pipeline"
   ]
  },
  {
   "cell_type": "code",
   "execution_count": 139,
   "id": "700bb9a5",
   "metadata": {},
   "outputs": [],
   "source": [
    "def poly_regression(degree):\n",
    "    X_new = np.linspace(-3, 3, 200).reshape(200,1)\n",
    "    poly_features=PolynomialFeatures(degree=degree,include_bias=True)\n",
    "    lin_reg=LinearRegression()\n",
    "    poly_regression=Pipeline([\n",
    "        (\"poly_features\",poly_features),\n",
    "        (\"lin_reg\",lin_reg)\n",
    "    ])\n",
    "    poly_regression.fit(X_train,y_train)\n",
    "    y_pred_new=poly_regression.predict(X_new)\n",
    "    #plotting prediction line\n",
    "    plt.plot(X_new,y_pred_new,'r',label=\"Degree\" +str(degree), linewidth=3)\n",
    "    plt.plot(X_train,y_train,\"b.\",linewidth=3)\n",
    "    plt.plot(X_test,y_test,\"g.\",linewidth=3)\n",
    "    plt.legend(loc=\"upper left\")\n",
    "    plt.xlabel(\"X\")\n",
    "    plt.ylabel(\"y\")\n",
    "    plt.axis([-4,4,0,10])\n",
    "    plt.show()"
   ]
  },
  {
   "cell_type": "code",
   "execution_count": 142,
   "id": "9dcee8af",
   "metadata": {},
   "outputs": [
    {
     "data": {
      "image/png": "[encoded data removed]",
      "text/plain": [
       "<Figure size 640x480 with 1 Axes>"
      ]
     },
     "metadata": {},
     "output_type": "display_data"
    }
   ],
   "source": [
    "poly_regression(1)\n",
    "\n",
    "## not close to all points"
   ]
  },
  {
   "cell_type": "code",
   "execution_count": 143,
   "id": "602a49a3",
   "metadata": {},
   "outputs": [
    {
     "data": {
      "image/png": "[encoded data removed]",
      "text/plain": [
       "<Figure size 640x480 with 1 Axes>"
      ]
     },
     "metadata": {},
     "output_type": "display_data"
    }
   ],
   "source": [
    "poly_regression(2)"
   ]
  },
  {
   "cell_type": "code",
   "execution_count": 144,
   "id": "ce0b0443",
   "metadata": {},
   "outputs": [
    {
     "data": {
      "image/png": "[encoded data removed]",
      "text/plain": [
       "<Figure size 640x480 with 1 Axes>"
      ]
     },
     "metadata": {},
     "output_type": "display_data"
    }
   ],
   "source": [
    "poly_regression(3)"
   ]
  },
  {
   "cell_type": "code",
   "execution_count": 145,
   "id": "a869b120",
   "metadata": {},
   "outputs": [
    {
     "data": {
      "image/png": "[encoded data removed]",
      "text/plain": [
       "<Figure size 640x480 with 1 Axes>"
      ]
     },
     "metadata": {},
     "output_type": "display_data"
    }
   ],
   "source": [
    "poly_regression(5)"
   ]
  },
  {
   "cell_type": "code",
   "execution_count": 147,
   "id": "4714c660",
   "metadata": {},
   "outputs": [
    {
     "data": {
      "image/png": "[encoded data removed]",
      "text/plain": [
       "<Figure size 640x480 with 1 Axes>"
      ]
     },
     "metadata": {},
     "output_type": "display_data"
    }
   ],
   "source": [
    "poly_regression(10)\n",
    "\n",
    "## over fitting increasing with degree increased"
   ]
  },
  {
   "cell_type": "code",
   "execution_count": null,
   "id": "0626c1d4",
   "metadata": {},
   "outputs": [],
   "source": []
  }
 ],
 "metadata": {
  "kernelspec": {
   "display_name": "Python 3 (ipykernel)",
   "language": "python",
   "name": "python3"
  },
  "language_info": {
   "codemirror_mode": {
    "name": "ipython",
    "version": 3
   },
   "file_extension": ".py",
   "mimetype": "text/x-python",
   "name": "python",
   "nbconvert_exporter": "python",
   "pygments_lexer": "ipython3",
   "version": "3.11.4"
  }
 },
 "nbformat": 4,
 "nbformat_minor": 5
}
